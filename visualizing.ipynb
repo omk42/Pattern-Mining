{
  "nbformat": 4,
  "nbformat_minor": 0,
  "metadata": {
    "colab": {
      "name": "visualizing.ipynb",
      "provenance": [],
      "mount_file_id": "1uiyY3GU-GPmmvlHBl2ijuz1ER4zeTGyY",
      "authorship_tag": "ABX9TyMweUx3sqmta6/ZMwmRvSwN",
      "include_colab_link": true
    },
    "kernelspec": {
      "name": "python3",
      "display_name": "Python 3"
    }
  },
  "cells": [
    {
      "cell_type": "markdown",
      "metadata": {
        "id": "view-in-github",
        "colab_type": "text"
      },
      "source": [
        "<a href=\"https://colab.research.google.com/github/omk42/Pattern-Mining/blob/master/visualizing.ipynb\" target=\"_parent\"><img src=\"https://colab.research.google.com/assets/colab-badge.svg\" alt=\"Open In Colab\"/></a>"
      ]
    },
    {
      "cell_type": "markdown",
      "metadata": {
        "id": "-JW_Yg7dAW-f",
        "colab_type": "text"
      },
      "source": [
        "**Libraries**"
      ]
    },
    {
      "cell_type": "code",
      "metadata": {
        "id": "cWrwmw28Aals",
        "colab_type": "code",
        "colab": {}
      },
      "source": [
        "import numpy as np\n",
        "import matplotlib.pyplot as plt \n",
        "from pathlib import Path\n",
        "from skimage.util.shape import view_as_windows\n",
        "from skimage.transform import resize\n",
        "import scipy.io as sio\n",
        "import pickle"
      ],
      "execution_count": 0,
      "outputs": []
    },
    {
      "cell_type": "markdown",
      "metadata": {
        "id": "R1cZxpuNAd_d",
        "colab_type": "text"
      },
      "source": [
        "**Configurations**"
      ]
    },
    {
      "cell_type": "code",
      "metadata": {
        "id": "0Pq8SBn2Z9SC",
        "colab_type": "code",
        "colab": {}
      },
      "source": [
        "ROOT = '/content/drive/My Drive/MDPM/'\n",
        "\n",
        "conf_dataset = 'shoes'\n",
        "conf_imgDir = ROOT + 'data/' + conf_dataset\n",
        "conf_numClasses = 1\n",
        "conf_numSamples = 100\n",
        "# conf_cnnFeatures = ROOT+ 'output/' + conf_dataset + '/cnnFeatures.npy'\n",
        "conf_imageDict = ROOT + 'output/' + conf_dataset + '/imageDict.pkl'\n",
        "conf_indexImg = ROOT + 'output/' + conf_dataset + '/indexImg.pkl'\n",
        "# conf_cluster_file = ROOT + 'output/' + conf_dataset + '/clustersp1m7n9q2.pkl' #Good, lil inaccurate\n",
        "conf_cluster_file = ROOT + 'output/' + conf_dataset + '/clustersp08m8n10q2.pkl' #Good, intricate but accurate\n",
        "# conf_cluster_file = ROOT + 'output/' + conf_dataset + '/clustersp06m9n11q2.pkl' \n",
        "\n",
        "conf_patchSize = 160\n",
        "conf_stepSize = 32\n",
        "\n",
        "conf_results = ROOT + \"results/\" + conf_dataset + \"/\"\n",
        "\n",
        "CROPPED_DIM = 227\n",
        "IMAGE_DIM = 256\n",
        "\n",
        "labels = [x for x in Path(conf_imgDir).iterdir()]\n",
        "# IMAGE_MEAN = np.load(ROOT+'output/shoes/shoes_mean.npy')"
      ],
      "execution_count": 0,
      "outputs": []
    },
    {
      "cell_type": "code",
      "metadata": {
        "id": "GGvPT4M-FHUl",
        "colab_type": "code",
        "colab": {}
      },
      "source": [
        "with open(conf_cluster_file, 'rb') as f:\n",
        "  clusters = pickle.load(f)\n",
        "\n",
        "with open(conf_indexImg, 'rb') as f:\n",
        "  indexImg = np.array(pickle.load(f))\n",
        "\n",
        "with open(conf_imageDict, 'rb') as f:\n",
        "  imageDict = pickle.load(f)"
      ],
      "execution_count": 0,
      "outputs": []
    },
    {
      "cell_type": "code",
      "metadata": {
        "id": "eYN22dYW4_fG",
        "colab_type": "code",
        "colab": {}
      },
      "source": [
        "def sample_images (im_path, patchSize):\n",
        "  I = plt.imread(im_path)\n",
        "  if I.dtype == np.uint8:\n",
        "    I = I.astype('<f')\n",
        "  # print (np.mean(I, (0,1)))\n",
        "  imHeight, imWidth, imDepth = I.shape\n",
        "  if imHeight > imWidth:\n",
        "    new_ht = int((256/float(imWidth))*imHeight)\n",
        "    I = resize(I, (new_ht, 256))\n",
        "  else:\n",
        "    new_width = int((256/float(imHeight)) * imWidth)\n",
        "    I = resize(I, (256, new_width))\n",
        "  \n",
        "  patches = view_as_windows(I, (patchSize, patchSize,3), step=conf_stepSize)\n",
        "  return patches"
      ],
      "execution_count": 0,
      "outputs": []
    },
    {
      "cell_type": "code",
      "metadata": {
        "id": "aTpOya3pO2Wa",
        "colab_type": "code",
        "colab": {}
      },
      "source": [
        "#max_clust = max(clusters, key=len)\n",
        "max_clust = np.random.choice(clusters)\n",
        "rand_clust = np.random.choice(max_clust, 5, replace=False)\n",
        "\n",
        "# images_id = indexImg[rand_clust]\n",
        "# print (rand_clust, images_id)\n",
        "\n",
        "# fig = plt.figure()\n",
        "# plt.rcParams['figure.figsize'] = [5, 5]\n",
        "\n",
        "for patch_num, patch in enumerate(rand_clust):\n",
        "  image_id = indexImg[patch]\n",
        "  first_patch = np.where(indexImg == image_id)[0][0]\n",
        "  num_patch = patch-first_patch+1\n",
        "  \n",
        "  patches = sample_images(imageDict[image_id], conf_patchSize)\n",
        "\n",
        "  k = 1 \n",
        "  for i in range(patches.shape[0]):\n",
        "    for j in range(patches.shape[1]):\n",
        "      if k == num_patch:\n",
        "        # ax1 = fig.add_subplot(1,5,patch_num+1)\n",
        "        plt.imshow(patches[i][j][0]/256)\n",
        "        plt.show()\n",
        "      k += 1"
      ],
      "execution_count": 0,
      "outputs": []
    },
    {
      "cell_type": "code",
      "metadata": {
        "id": "SYouSC6mEOZn",
        "colab_type": "code",
        "colab": {}
      },
      "source": [
        "for cluster_num, cluster in enumerate(clusters):\n",
        "  cluster = np.random.choice(cluster, 10, replace=False)\n",
        "  for patch_num, patch in enumerate(cluster):\n",
        "    image_id = indexImg[patch]\n",
        "    first_patch = np.where(indexImg == image_id)[0][0]\n",
        "    num_patch = patch-first_patch+1\n",
        "    \n",
        "    patches = sample_images(imageDict[image_id], conf_patchSize)\n",
        "\n",
        "    k = 1 \n",
        "    for i in range(patches.shape[0]):\n",
        "      for j in range(patches.shape[1]):\n",
        "        if k == num_patch:\n",
        "          I = patches[i][j][0]/256\n",
        "          I_path = Path(conf_results+ str(cluster_num)+ \"/\" + str(patch_num) + \".png\")\n",
        "          if not I_path.parent.is_dir():\n",
        "            I_path.parent.mkdir(parents=True)\n",
        "          with I_path.open('wb') as f:\n",
        "            plt.imsave(f, I)\n",
        "        k += 1  "
      ],
      "execution_count": 0,
      "outputs": []
    },
    {
      "cell_type": "code",
      "metadata": {
        "id": "zCrtWLLQ0-zN",
        "colab_type": "code",
        "outputId": "440a4951-ffef-4a04-fc12-337e1dfe4adf",
        "colab": {
          "base_uri": "https://localhost:8080/",
          "height": 34
        }
      },
      "source": [
        "a= np.array([1,1,1,1,2,2,2,3,3,3,3,4,4,5,5,5,5])\n",
        "np.where(a==2)"
      ],
      "execution_count": 0,
      "outputs": [
        {
          "output_type": "execute_result",
          "data": {
            "text/plain": [
              "(array([4, 5, 6]),)"
            ]
          },
          "metadata": {
            "tags": []
          },
          "execution_count": 16
        }
      ]
    },
    {
      "cell_type": "code",
      "metadata": {
        "id": "HVt5sAmzo7NG",
        "colab_type": "code",
        "colab": {
          "base_uri": "https://localhost:8080/",
          "height": 34
        },
        "outputId": "d3127bbb-2150-46ae-aafa-a792038fdb0c"
      },
      "source": [
        "with open(ROOT+'output/test_dataset/rule.txt', 'r') as f:\n",
        "  print (len(f.readlines()))"
      ],
      "execution_count": 21,
      "outputs": [
        {
          "output_type": "stream",
          "text": [
            "9385\n"
          ],
          "name": "stdout"
        }
      ]
    }
  ]
}