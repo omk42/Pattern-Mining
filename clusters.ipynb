{
  "nbformat": 4,
  "nbformat_minor": 0,
  "metadata": {
    "colab": {
      "name": "clusters.ipynb",
      "provenance": [],
      "mount_file_id": "1wedeOUDpwmZHkTyT9xFcgINWhU-zw8S8",
      "authorship_tag": "ABX9TyOeTwWDrJgCoUDSM41kyJH1",
      "include_colab_link": true
    },
    "kernelspec": {
      "name": "python3",
      "display_name": "Python 3"
    }
  },
  "cells": [
    {
      "cell_type": "markdown",
      "metadata": {
        "id": "view-in-github",
        "colab_type": "text"
      },
      "source": [
        "<a href=\"https://colab.research.google.com/github/omk42/Pattern-Mining/blob/master/clusters.ipynb\" target=\"_parent\"><img src=\"https://colab.research.google.com/assets/colab-badge.svg\" alt=\"Open In Colab\"/></a>"
      ]
    },
    {
      "cell_type": "markdown",
      "metadata": {
        "id": "-JW_Yg7dAW-f",
        "colab_type": "text"
      },
      "source": [
        "**Libraries**"
      ]
    },
    {
      "cell_type": "code",
      "metadata": {
        "id": "cWrwmw28Aals",
        "colab_type": "code",
        "colab": {}
      },
      "source": [
        "import numpy as np\n",
        "import matplotlib.pyplot as plt \n",
        "from pathlib import Path\n",
        "from skimage.util.shape import view_as_windows\n",
        "from skimage.transform import resize\n",
        "import scipy.io as sio\n",
        "import pickle"
      ],
      "execution_count": 0,
      "outputs": []
    },
    {
      "cell_type": "markdown",
      "metadata": {
        "id": "R1cZxpuNAd_d",
        "colab_type": "text"
      },
      "source": [
        "**Configurations**"
      ]
    },
    {
      "cell_type": "code",
      "metadata": {
        "id": "0Pq8SBn2Z9SC",
        "colab_type": "code",
        "colab": {}
      },
      "source": [
        "ROOT = '/content/drive/My Drive/MDPM/'\n",
        "\n",
        "conf_dataset = 'shoes'\n",
        "conf_imgDir = ROOT + 'data/' + conf_dataset\n",
        "conf_numClasses = 1\n",
        "\n",
        "# conf_rules_path = ROOT + 'output/' + conf_dataset + '/rule.txt'\n",
        "# conf_invertFile_path = ROOT + 'output/' + conf_dataset + '/invertFile.npy'\n",
        "# conf_cluster_file = ROOT + 'output/' + conf_dataset + '/clusterFile.pkl'\n",
        "\n",
        "conf_rules_path = './MDPM_python/rulep07m8n10q2.txt'\n",
        "conf_invertFile_path = './MDPM_python/invertFile.npy'\n",
        "conf_cluster_file = './MDPM_python/clustersp07m8n10q2.pkl'\n",
        "\n",
        "CROPPED_DIM = 227\n",
        "IMAGE_DIM = 256\n",
        "\n",
        "# labels = [x for x in Path(conf_imgDir).iterdir()]"
      ],
      "execution_count": 0,
      "outputs": []
    },
    {
      "cell_type": "code",
      "metadata": {
        "id": "KmxoX_7SAVrB",
        "colab_type": "code",
        "colab": {}
      },
      "source": [
        "rules = set()\n",
        "removed_count = 0\n",
        "\n",
        "with open (conf_rules_path, 'r') as f: \n",
        "  for line in reversed(f.readlines()):\n",
        "    rule = tuple(int(ele) for ele in line[line.find(' ', line.find(' ')+1)+1:line.find('(')-1].split(' '))    \n",
        "    # print (rule)\n",
        "    for i in range(1,len(rule)+1):\n",
        "      subs = rule[0:i]\n",
        "      if subs in rules:\n",
        "        removed_count += 1\n",
        "        # print ('removed', subs)\n",
        "        rules.remove(subs)\n",
        "    rules.add(rule)"
      ],
      "execution_count": 0,
      "outputs": []
    },
    {
      "cell_type": "code",
      "metadata": {
        "id": "QLMQd3RsarXp",
        "colab_type": "code",
        "colab": {
          "base_uri": "https://localhost:8080/",
          "height": 34
        },
        "outputId": "2b0d6f68-066e-487e-fea6-4ebc1e474140"
      },
      "source": [
        "len(rules)"
      ],
      "execution_count": 96,
      "outputs": [
        {
          "output_type": "execute_result",
          "data": {
            "text/plain": [
              "198"
            ]
          },
          "metadata": {
            "tags": []
          },
          "execution_count": 96
        }
      ]
    },
    {
      "cell_type": "code",
      "metadata": {
        "id": "alwqkSY1a5Jd",
        "colab_type": "code",
        "colab": {
          "base_uri": "https://localhost:8080/",
          "height": 34
        },
        "outputId": "11dee1f9-8df0-4cab-a427-b0c963676d1b"
      },
      "source": [
        "removed_count"
      ],
      "execution_count": 97,
      "outputs": [
        {
          "output_type": "execute_result",
          "data": {
            "text/plain": [
              "11"
            ]
          },
          "metadata": {
            "tags": []
          },
          "execution_count": 97
        }
      ]
    },
    {
      "cell_type": "code",
      "metadata": {
        "id": "4Iwbv-y8h2TK",
        "colab_type": "code",
        "colab": {}
      },
      "source": [
        "clusters = list()\n",
        "\n",
        "with open(conf_invertFile_path, 'rb') as inv:\n",
        "  invert = np.load(inv)\n",
        "  #print (invert)\n",
        "  for rule in rules:\n",
        "    index = np.ones ((invert.shape[1],), dtype=bool)\n",
        "    for feature in rule:\n",
        "      index = index & np.array(invert[feature], dtype=bool)\n",
        "    \n",
        "    cluster_arr = index.nonzero()[0]\n",
        "    # if len(cluster_arr) == 1:\n",
        "    #   print (\"hi\")\n",
        "    if len(cluster_arr):\n",
        "      # print (cluster_arr)\n",
        "      clusters.append (cluster_arr)"
      ],
      "execution_count": 0,
      "outputs": []
    },
    {
      "cell_type": "code",
      "metadata": {
        "id": "GsFw4-8CcXjS",
        "colab_type": "code",
        "colab": {
          "base_uri": "https://localhost:8080/",
          "height": 34
        },
        "outputId": "97c93599-08a2-4dbf-f57a-9d723f78a8d9"
      },
      "source": [
        "from statistics import mean\n",
        "print(mean([len(i) for i in clusters]), len(clusters))"
      ],
      "execution_count": 99,
      "outputs": [
        {
          "output_type": "stream",
          "text": [
            "212.4090909090909 198\n"
          ],
          "name": "stdout"
        }
      ]
    },
    {
      "cell_type": "code",
      "metadata": {
        "id": "uT4CvlMrttl1",
        "colab_type": "code",
        "colab": {}
      },
      "source": [
        "with open (conf_cluster_file, 'wb') as f:\n",
        "  pickle.dump(clusters, f)"
      ],
      "execution_count": 0,
      "outputs": []
    },
    {
      "cell_type": "markdown",
      "metadata": {
        "id": "9DkEtpXFu4a7",
        "colab_type": "text"
      },
      "source": [
        "For Testing"
      ]
    },
    {
      "cell_type": "code",
      "metadata": {
        "id": "BGp9eyv84F7h",
        "colab_type": "code",
        "colab": {}
      },
      "source": [
        "import numpy as np\n",
        "\n",
        "invert = np.zeros((10,10))\n",
        "rows = [0,3,4,4,4,5,2,1,3,9,8,7,7,5,6,0,1,2,6,7,8,9,3,4,7,8,3,4,7,8]\n",
        "cols = [0,0,2,3,5,7,8,7,6,3,9,9,9,3,1,4,7,2,8,4,5,2,5,5,5,5,9,9,9,9]\n",
        "for r,c in zip(rows, cols):\n",
        "  invert[r][c] = 1\n",
        "with open('/content/sample_invert.npy', 'wb') as f:\n",
        "  np.save(f, invert)"
      ],
      "execution_count": 0,
      "outputs": []
    }
  ]
}