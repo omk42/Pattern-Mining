{
  "nbformat": 4,
  "nbformat_minor": 0,
  "metadata": {
    "colab": {
      "name": "mining.ipynb",
      "provenance": [],
      "mount_file_id": "1KKPJzBnPv4i0aEHGynCIyxCgaJB3FzG5",
      "authorship_tag": "ABX9TyOle3/a99ZKWpvZlB0gCkmS",
      "include_colab_link": true
    },
    "kernelspec": {
      "name": "python3",
      "display_name": "Python 3"
    }
  },
  "cells": [
    {
      "cell_type": "markdown",
      "metadata": {
        "id": "view-in-github",
        "colab_type": "text"
      },
      "source": [
        "<a href=\"https://colab.research.google.com/github/omk42/Pattern-Mining/blob/master/mining.ipynb\" target=\"_parent\"><img src=\"https://colab.research.google.com/assets/colab-badge.svg\" alt=\"Open In Colab\"/></a>"
      ]
    },
    {
      "cell_type": "markdown",
      "metadata": {
        "id": "-JW_Yg7dAW-f",
        "colab_type": "text"
      },
      "source": [
        "**Libraries**"
      ]
    },
    {
      "cell_type": "code",
      "metadata": {
        "id": "cWrwmw28Aals",
        "colab_type": "code",
        "colab": {}
      },
      "source": [
        "import numpy as np\n",
        "import matplotlib.pyplot as plt \n",
        "from pathlib import Path"
      ],
      "execution_count": 0,
      "outputs": []
    },
    {
      "cell_type": "markdown",
      "metadata": {
        "id": "R1cZxpuNAd_d",
        "colab_type": "text"
      },
      "source": [
        "**Configurations**"
      ]
    },
    {
      "cell_type": "code",
      "metadata": {
        "id": "0Pq8SBn2Z9SC",
        "colab_type": "code",
        "colab": {}
      },
      "source": [
        "ROOT = '/content/drive/My Drive/MDPM/'\n",
        "\n",
        "conf_dataset = 'shoes'\n",
        "conf_imgDir = ROOT + 'data/' + conf_dataset\n",
        "conf_numClasses = 1\n",
        "conf_numSamples = 100\n",
        "# conf_cnnFeatures = ROOT + 'output/' + conf_dataset + '/cnnFeatures.npy'\n",
        "conf_cnnFeatures = './MDPM_python/cnnFeatures.npy'\n",
        "\n",
        "# conf_imageDict = ROOT + 'output/' + conf_dataset + '/imageDict.pkl'\n",
        "# conf_indexImg = ROOT + 'output/' + conf_dataset + '/indexImg.pkl'\n",
        "\n",
        "# conf_patchSize = 128\n",
        "# conf_patchSizeL2 = 160\n",
        "# conf_patchSizeL3 = 192\n",
        "# conf_stepSize = 32\n",
        "\n",
        "conf_numTopActivation = 20\n",
        "conf_supp = 0.01\n",
        "conf_minLength = 3\n",
        "conf_maxLength = 6\n",
        "conf_confid = 30\n",
        "# conf_invertFile = ROOT + 'output/' + conf_dataset + '/invertFile.npy'\n",
        "conf_invertFile = './MDPM_python/invertFile.npy'\n",
        "# conf_inputFile = ROOT + 'output/' + conf_dataset + '/transFile.txt'\n",
        "conf_inputFile = './MDPM_python/transFile.txt'\n",
        "# conf_appFile = ROOT + 'mining/appFile.txt'\n",
        "# conf_outputFile = ROOT + 'output/' + conf_dataset + '/rule.txt'\n",
        "\n",
        "CROPPED_DIM = 227\n",
        "IMAGE_DIM = 256\n",
        "\n",
        "# labels = [x for x in Path(conf_imgDir).iterdir()]"
      ],
      "execution_count": 0,
      "outputs": []
    },
    {
      "cell_type": "code",
      "metadata": {
        "id": "W50DUAn2Bim7",
        "colab_type": "code",
        "colab": {}
      },
      "source": [
        "def getInvertFileCls(classID):\n",
        "  with open (conf_cnnFeatures, 'rb') as f:\n",
        "    label_cnnFea = np.load (f)\n",
        "  \n",
        "  feaSorted = -np.sort(-label_cnnFea, axis=0)\n",
        "  feaIndex = np.argsort(-label_cnnFea, axis=0)\n",
        "  invertFile = np.zeros(label_cnnFea.shape)\n",
        "  \n",
        "  for i in range(invertFile.shape[1]):\n",
        "    invertFile[feaIndex[:conf_numTopActivation,i].T, i] = 1\n",
        "  # print (label_cnnFea, invertFile)\n",
        "  \n",
        "  with open(conf_invertFile, 'wb') as f:\n",
        "    np.save(f, invertFile)\n",
        "\n",
        "  pos = '4097'\n",
        "  with open(conf_inputFile,'w') as f:\n",
        "    for i in range(invertFile.shape[1]):\n",
        "      for j in np.nonzero(invertFile[:,i])[0]:\n",
        "        f.write(\" \"+str(j)) \n",
        "      f.write(\" \"+pos)\n",
        "      f.write(\"\\n\")  "
      ],
      "execution_count": 0,
      "outputs": []
    },
    {
      "cell_type": "code",
      "metadata": {
        "id": "hPoVvxrtcPBo",
        "colab_type": "code",
        "outputId": "0d79695f-f0a8-4eda-de77-b87e67a07c85",
        "colab": {
          "base_uri": "https://localhost:8080/",
          "height": 34
        }
      },
      "source": [
        "for i in range(1,conf_numClasses+1):\n",
        "  print (\"Combining level 1 CNN feature of class \", i)\n",
        "  getInvertFileCls(i)"
      ],
      "execution_count": 5,
      "outputs": [
        {
          "output_type": "stream",
          "text": [
            "Combining level 1 CNN feature of class  1\n"
          ],
          "name": "stdout"
        }
      ]
    },
    {
      "cell_type": "code",
      "metadata": {
        "id": "IomULB78J4id",
        "colab_type": "code",
        "outputId": "8baea6fa-3be7-4e5f-ec1d-46b968c0db45",
        "colab": {
          "base_uri": "https://localhost:8080/",
          "height": 168
        }
      },
      "source": [
        "%%shell\n",
        "cd \"/content/drive/My Drive/MDPM/mining/apriori/apriori/src\"\n",
        "# chmod 755 \"apriori\"\n",
        "./apriori -tr -s0.075 -m8 -n10 -q2 -c30 -R\"/content/drive/My Drive/MDPM/mining/appFile.txt\" \"/content/drive/My Drive/MDPM/output/shoes/transFile.txt\" \"/content/drive/My Drive/MDPM/output/shoes/rulep075m8n10q2.txt\""
      ],
      "execution_count": 14,
      "outputs": [
        {
          "output_type": "stream",
          "text": [
            "./apriori - find frequent item sets with the apriori algorithm\n",
            "version 6.28 (2019.03.31)        (c) 1996-2019   Christian Borgelt\n",
            "reading /content/drive/My Drive/MDPM/mining/appFile.txt ... [1 item(s)] done [0.00s].\n",
            "reading /content/drive/My Drive/MDPM/output/shoes/transFile.txt ... [3959 item(s), 257688 transaction(s)] done [0.36s].\n",
            "filtering, sorting and recoding items ... [2982 item(s)] done [0.01s].\n",
            "sorting and reducing transactions ... [231240/257688 transaction(s)] done [0.16s].\n",
            "building transaction tree ... [351761 node(s)] done [0.05s].\n",
            "checking subsets of size 1 2 3 4 5 6 7 8 9 10 done [42.57s].\n",
            "writing /content/drive/My Drive/MDPM/output/shoes/rulep075m8n10q2.txt ... [141 rule(s)] done [0.66s].\n"
          ],
          "name": "stdout"
        },
        {
          "output_type": "execute_result",
          "data": {
            "text/plain": [
              ""
            ]
          },
          "metadata": {
            "tags": []
          },
          "execution_count": 14
        }
      ]
    },
    {
      "cell_type": "markdown",
      "metadata": {
        "id": "2dBcCRuR5PR-",
        "colab_type": "text"
      },
      "source": [
        "Test for InvertFile\n",
        "\n"
      ]
    },
    {
      "cell_type": "code",
      "metadata": {
        "id": "5A2dyEnK5OrZ",
        "colab_type": "code",
        "colab": {
          "base_uri": "https://localhost:8080/",
          "height": 353
        },
        "outputId": "431c1ecc-daa9-487a-ec4f-d392591b3408"
      },
      "source": [
        "conf_cnnFeatures = ROOT + 'scratch/test_arr.npy'\n",
        "conf_inputFile = ROOT + 'scratch/transFile.txt'\n",
        "conf_numTopActivation = 4\n",
        "\n",
        "test_arr = np.array ([[0,34,23,56,23,9,3,21,56,7],[3,66,84,235,6778,324,74,2,1,567],[3,5,63,45,23,56,323,565,43,7]])\n",
        "test_arr = test_arr.T \n",
        "np.save('/content/drive/My Drive/MDPM/scratch/test_arr.npy', test_arr)\n",
        "print (test_arr)\n",
        "getInvertFileCls(1)"
      ],
      "execution_count": 20,
      "outputs": [
        {
          "output_type": "stream",
          "text": [
            "[[   0    3    3]\n",
            " [  34   66    5]\n",
            " [  23   84   63]\n",
            " [  56  235   45]\n",
            " [  23 6778   23]\n",
            " [   9  324   56]\n",
            " [   3   74  323]\n",
            " [  21    2  565]\n",
            " [  56    1   43]\n",
            " [   7  567    7]]\n",
            "[[0. 0. 0.]\n",
            " [1. 0. 0.]\n",
            " [1. 0. 1.]\n",
            " [1. 1. 0.]\n",
            " [0. 1. 0.]\n",
            " [0. 1. 1.]\n",
            " [0. 0. 1.]\n",
            " [0. 0. 1.]\n",
            " [1. 0. 0.]\n",
            " [0. 1. 0.]]\n"
          ],
          "name": "stdout"
        }
      ]
    },
    {
      "cell_type": "code",
      "metadata": {
        "id": "KX3YK3MN6Ib-",
        "colab_type": "code",
        "colab": {}
      },
      "source": [
        "with open('/content/drive/My Drive/MDPM/scratch/test_arr.npy', 'rb') as f:\n",
        "  t = np.load(f)\n",
        "\n",
        "assert np.all(t==test_arr)"
      ],
      "execution_count": 0,
      "outputs": []
    }
  ]
}